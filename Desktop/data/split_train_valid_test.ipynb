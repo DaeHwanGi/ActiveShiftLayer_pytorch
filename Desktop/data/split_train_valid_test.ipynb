{
 "cells": [
  {
   "cell_type": "code",
   "execution_count": 9,
   "metadata": {},
   "outputs": [],
   "source": [
    "import os\n",
    "\n",
    "dataset_path = 'deepscores/deep_scores_v2_100p/images_png/'\n",
    "file_names = []\n",
    "for (path, dir, files) in os.walk(dataset_path):\n",
    "    for filename in files:\n",
    "        file_names.append(filename)\n"
   ]
  },
  {
   "cell_type": "code",
   "execution_count": 10,
   "metadata": {},
   "outputs": [],
   "source": [
    "train_files = file_names[:80]\n",
    "valid_files = file_names[80:90]\n",
    "test_files = file_names[90:]"
   ]
  },
  {
   "cell_type": "code",
   "execution_count": 14,
   "metadata": {},
   "outputs": [],
   "source": [
    "f = open(\"train_files.txt\", 'w')\n",
    "for i in range(len(train_files)):\n",
    "    data = train_files[i]+\"\\n\"\n",
    "    f.write(data)\n",
    "f.close()"
   ]
  },
  {
   "cell_type": "code",
   "execution_count": 7,
   "metadata": {},
   "outputs": [],
   "source": [
    "f = open(\"valid_files.txt\", 'w')\n",
    "for i in range(len(valid_files)):\n",
    "    data = valid_files[i]+\"\\n\"\n",
    "    f.write(data)\n",
    "f.close()"
   ]
  },
  {
   "cell_type": "code",
   "execution_count": 8,
   "metadata": {},
   "outputs": [],
   "source": [
    "f = open(\"test_files.txt\", 'w')\n",
    "for i in range(len(test_files)):\n",
    "    data = test_files[i]+\"\\n\"\n",
    "    f.write(data)\n",
    "f.close()"
   ]
  },
  {
   "cell_type": "code",
   "execution_count": null,
   "metadata": {},
   "outputs": [],
   "source": []
  }
 ],
 "metadata": {
  "kernelspec": {
   "display_name": "Python 3",
   "language": "python",
   "name": "python3"
  },
  "language_info": {
   "codemirror_mode": {
    "name": "ipython",
    "version": 3
   },
   "file_extension": ".py",
   "mimetype": "text/x-python",
   "name": "python",
   "nbconvert_exporter": "python",
   "pygments_lexer": "ipython3",
   "version": "3.6.7"
  }
 },
 "nbformat": 4,
 "nbformat_minor": 2
}
